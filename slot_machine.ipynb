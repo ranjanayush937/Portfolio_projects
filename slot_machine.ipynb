{
  "nbformat": 4,
  "nbformat_minor": 0,
  "metadata": {
    "colab": {
      "provenance": [],
      "authorship_tag": "ABX9TyNMKr9WELmJp+nQcXCCq32g",
      "include_colab_link": true
    },
    "kernelspec": {
      "name": "python3",
      "display_name": "Python 3"
    },
    "language_info": {
      "name": "python"
    }
  },
  "cells": [
    {
      "cell_type": "markdown",
      "metadata": {
        "id": "view-in-github",
        "colab_type": "text"
      },
      "source": [
        "<a href=\"https://colab.research.google.com/github/ranjanayush937/Portfolio_projects/blob/feature_1_slot_machine/slot_machine.ipynb\" target=\"_parent\"><img src=\"https://colab.research.google.com/assets/colab-badge.svg\" alt=\"Open In Colab\"/></a>"
      ]
    },
    {
      "cell_type": "code",
      "source": [
        "import random"
      ],
      "metadata": {
        "id": "movSFu9plxYZ"
      },
      "execution_count": 79,
      "outputs": []
    },
    {
      "cell_type": "code",
      "source": [
        "MAX_LINES = 3\n",
        "MIN_BET = 1\n",
        "MAX_BET = 100\n",
        "ROWS = 3\n",
        "COLUMN = 3\n",
        "SYMBOL_COUNT = {\n",
        "    'A': 2,\n",
        "    'B': 4,\n",
        "    'C': 6,\n",
        "    'D': 8\n",
        "}\n",
        "SYMBOL_VALUE = {\n",
        "    'A': 5,\n",
        "    'B': 4,\n",
        "    'C': 3,\n",
        "    'D': 2\n",
        "}"
      ],
      "metadata": {
        "id": "kPDOmfJ3hRcp"
      },
      "execution_count": 88,
      "outputs": []
    },
    {
      "cell_type": "code",
      "source": [
        "def check_winnings(columns, lines, bet, values):\n",
        "  winnings = 0\n",
        "  for line in range(lines):\n",
        "    symbol = columns[0][line]\n",
        "    for column in columns:\n",
        "      symbol_to_check = column[line]\n",
        "      if symbol != symbol_to_check:\n",
        "        break\n",
        "    else:\n",
        "      winnings += values[symbol] * bet\n",
        "  return winnings"
      ],
      "metadata": {
        "id": "kxWfWOMrBAtv"
      },
      "execution_count": null,
      "outputs": []
    },
    {
      "cell_type": "code",
      "source": [
        "def get_slot_machine_spin(rows, cols, symbols):\n",
        "  all_symbols = []\n",
        "  for symbol, symbol_count in symbols.items():\n",
        "    for _ in range(symbol_count):\n",
        "      all_symbols.append(symbol)\n",
        "\n",
        "  columns = []\n",
        "  for _ in range(cols):\n",
        "    column = []\n",
        "    current_symbol = all_symbols[:]\n",
        "    for _ in range(rows):\n",
        "      value = random.choice(current_symbol)\n",
        "      current_symbol.remove(value)\n",
        "      column.append(value)\n",
        "\n",
        "    columns.append(column)\n",
        "\n",
        "  return columns"
      ],
      "metadata": {
        "id": "zZveVPnboGUs"
      },
      "execution_count": 89,
      "outputs": []
    },
    {
      "cell_type": "code",
      "source": [
        "def print_slot_machine(columns):\n",
        "    for row in range(len(columns[0])):\n",
        "        for i, column in enumerate(columns):\n",
        "            if i != len(columns)-1:\n",
        "              print(column[row], end =' | ')\n",
        "            else:\n",
        "              print(column[row], end ='')\n",
        "\n",
        "        print()"
      ],
      "metadata": {
        "id": "WUADEPbLwORh"
      },
      "execution_count": 82,
      "outputs": []
    },
    {
      "cell_type": "code",
      "source": [
        "def deposit():\n",
        "  while True:\n",
        "    amount = input('Enter a deposit amount $')\n",
        "    if amount.isdigit():\n",
        "      amount = int(amount)\n",
        "      if amount > 0:\n",
        "        break\n",
        "      else:\n",
        "        print('Amount must be greater than 0.')\n",
        "    else:\n",
        "      print('Amount must be a number.')\n",
        "\n",
        "  return amount"
      ],
      "metadata": {
        "id": "LhB17RCuAMvx"
      },
      "execution_count": 83,
      "outputs": []
    },
    {
      "cell_type": "code",
      "source": [
        "def get_num_of_lines():\n",
        "  while True:\n",
        "    lines = input('Choose number of lines between (1-' + str(MAX_LINES) + ')? ')\n",
        "    if lines.isdigit():\n",
        "      lines = int(lines)\n",
        "      if 1 <= lines <= MAX_LINES:\n",
        "        break\n",
        "      else:\n",
        "        print('enter a valid number of lines')\n",
        "    else:\n",
        "      print('enter a number')\n",
        "\n",
        "  return lines"
      ],
      "metadata": {
        "id": "Y58Lyju5h-Ei"
      },
      "execution_count": 84,
      "outputs": []
    },
    {
      "cell_type": "code",
      "source": [
        "def get_bet():\n",
        "  while True:\n",
        "    bet = input('Your bet on each line $')\n",
        "    if bet.isdigit():\n",
        "      bet = int(bet)\n",
        "      if MIN_BET <= bet <= MAX_BET:\n",
        "        break\n",
        "      else:\n",
        "        print(f'Choose a amount between ${MIN_BET} - ${MAX_BET}')\n",
        "    else:\n",
        "      print('Enter a number.')\n",
        "\n",
        "  return bet"
      ],
      "metadata": {
        "id": "R7c4lf5jqZfO"
      },
      "execution_count": 85,
      "outputs": []
    },
    {
      "cell_type": "code",
      "source": [
        "def main():\n",
        "  balance = deposit()\n",
        "  lines = get_num_of_lines()\n",
        "\n",
        "  while True:\n",
        "    bet = get_bet()\n",
        "    total_bet = bet*lines\n",
        "    if total_bet > balance:\n",
        "      print(f\"Insufficient balance! Your balace amount is {balance}\")\n",
        "    else:\n",
        "      break\n",
        "\n",
        "  print(f\"You are betting ${bet} on {lines} lines. Total bet is equal to ${total_bet}\")\n",
        "\n",
        "  bet = get_slot_machine_spin(ROWS, COLUMN, SYMBOL_COUNT)\n",
        "  slot = print_slot_machine(bet)"
      ],
      "metadata": {
        "id": "yVCW8G6xjrxq"
      },
      "execution_count": 86,
      "outputs": []
    },
    {
      "cell_type": "code",
      "source": [
        "main()"
      ],
      "metadata": {
        "colab": {
          "base_uri": "https://localhost:8080/"
        },
        "id": "EJqyMaiJqbf2",
        "outputId": "fac72c4e-8578-420b-8404-d89be575d64a"
      },
      "execution_count": 87,
      "outputs": [
        {
          "output_type": "stream",
          "name": "stdout",
          "text": [
            "Enter a deposit amount $100\n",
            "Choose number of lines between (1-3)? \n",
            "enter a number\n",
            "Choose number of lines between (1-3)? 2\n",
            "Your bet on each line $2\n",
            "You are betting $2 on 2 lines. Total bet is equal to $4\n",
            "D | D | A\n",
            "C | B | B\n",
            "A | D | D\n"
          ]
        }
      ]
    }
  ]
}